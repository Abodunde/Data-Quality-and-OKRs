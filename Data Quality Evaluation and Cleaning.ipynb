{
 "cells": [
  {
   "cell_type": "markdown",
   "metadata": {},
   "source": [
    "## Exercise Data Quality Analytical Exercise\n",
    "##### By: Abodunde Ojo"
   ]
  },
  {
   "cell_type": "markdown",
   "metadata": {},
   "source": [
    "#### Import Necessary Libraries"
   ]
  },
  {
   "cell_type": "code",
   "execution_count": 1,
   "metadata": {},
   "outputs": [],
   "source": [
    "import pandas as pd\n",
    "import numpy as np\n",
    "\n",
    "# Libraries to help with data visualization\n",
    "import matplotlib.pyplot as plt\n",
    "import seaborn as sns\n",
    "\n",
    "#import library for Outlier Detection\n",
    "from scipy import stats\n",
    "\n",
    "# Date Library\n",
    "from dateutil.parser import parse\n",
    "import datetime\n",
    "today = datetime.date.today()\n",
    "from datetime import datetime\n",
    "\n",
    "# to suppress warnings\n",
    "import warnings\n",
    "warnings.filterwarnings(\"ignore\")"
   ]
  },
  {
   "cell_type": "markdown",
   "metadata": {},
   "source": [
    "#### Import Data"
   ]
  },
  {
   "cell_type": "code",
   "execution_count": 2,
   "metadata": {},
   "outputs": [],
   "source": [
    "## Complete the code to import the data\n",
    "df = pd.read_excel(\"Data.xlsx\", sheet_name=\"AccountDataDQA\")"
   ]
  },
  {
   "cell_type": "code",
   "execution_count": 3,
   "metadata": {},
   "outputs": [],
   "source": [
    "# copying data to another variable to avoid any changes to original data\n",
    "data = df.copy()"
   ]
  },
  {
   "cell_type": "markdown",
   "metadata": {},
   "source": [
    "#### Remove Spaces from Column Name"
   ]
  },
  {
   "cell_type": "code",
   "execution_count": 5,
   "metadata": {},
   "outputs": [],
   "source": [
    "columns = [column.strip()\n",
    "          for column in data.columns]"
   ]
  },
  {
   "cell_type": "code",
   "execution_count": 6,
   "metadata": {},
   "outputs": [],
   "source": [
    "#Replace Existing Columns with clean ones\n",
    "data.columns = columns"
   ]
  },
  {
   "cell_type": "code",
   "execution_count": 7,
   "metadata": {},
   "outputs": [
    {
     "data": {
      "text/plain": [
       "(27648, 11)"
      ]
     },
     "execution_count": 7,
     "metadata": {},
     "output_type": "execute_result"
    }
   ],
   "source": [
    "#Check Shape\n",
    "data.shape\n",
    "# This shows it in the format (rows, columns)"
   ]
  },
  {
   "cell_type": "markdown",
   "metadata": {},
   "source": [
    "### OBSERVATION\n",
    "I passed a length check on the **acc_status column** and discovered that there are spaces and it is giving a length of 10 instead of 1. This is shown in the next slide."
   ]
  },
  {
   "cell_type": "code",
   "execution_count": 8,
   "metadata": {},
   "outputs": [
    {
     "data": {
      "text/plain": [
       "[10,\n",
       " 10,\n",
       " 10,\n",
       " 10,\n",
       " 10,\n",
       " 10,\n",
       " 10,\n",
       " 10,\n",
       " 10,\n",
       " 10,\n",
       " 10,\n",
       " 10,\n",
       " 10,\n",
       " 10,\n",
       " 10,\n",
       " 10,\n",
       " 10,\n",
       " 10,\n",
       " 10,\n",
       " 10]"
      ]
     },
     "execution_count": 8,
     "metadata": {},
     "output_type": "execute_result"
    }
   ],
   "source": [
    "lenghth_of_acc_status = [len(x) for x in data['acc_status'][0:20]]\n",
    "lenghth_of_acc_status"
   ]
  },
  {
   "cell_type": "markdown",
   "metadata": {},
   "source": [
    "#### Treat the 'acc_status' and 'account_type' columns by removing the spaces (Ideally, this should be done on all column)"
   ]
  },
  {
   "cell_type": "code",
   "execution_count": 9,
   "metadata": {},
   "outputs": [],
   "source": [
    "data['acc_status'] = data['acc_status'].str.strip()\n",
    "data['account_type'] = data['account_type'].str.strip()"
   ]
  },
  {
   "cell_type": "markdown",
   "metadata": {},
   "source": [
    "##### Copy the DataFrame so that we can use it for spooling clean data Later"
   ]
  },
  {
   "cell_type": "code",
   "execution_count": 10,
   "metadata": {},
   "outputs": [],
   "source": [
    "cleaned_df = data.copy()"
   ]
  },
  {
   "cell_type": "markdown",
   "metadata": {},
   "source": [
    "## Check Data Type Conformance"
   ]
  },
  {
   "cell_type": "markdown",
   "metadata": {},
   "source": [
    "#### Import (and Clean) the Data Dictionary from the sheet and compare Data types"
   ]
  },
  {
   "cell_type": "code",
   "execution_count": 11,
   "metadata": {},
   "outputs": [],
   "source": [
    "meta_data = pd.read_excel(r\"C:\\Users\\ojoabo\\Downloads\\DQArecruitmenttestV2.xlsx\", sheet_name=\"Data Quality Interview Assessme\")"
   ]
  },
  {
   "cell_type": "code",
   "execution_count": 12,
   "metadata": {},
   "outputs": [
    {
     "data": {
      "text/html": [
       "<div>\n",
       "<style scoped>\n",
       "    .dataframe tbody tr th:only-of-type {\n",
       "        vertical-align: middle;\n",
       "    }\n",
       "\n",
       "    .dataframe tbody tr th {\n",
       "        vertical-align: top;\n",
       "    }\n",
       "\n",
       "    .dataframe thead th {\n",
       "        text-align: right;\n",
       "    }\n",
       "</style>\n",
       "<table border=\"1\" class=\"dataframe\">\n",
       "  <thead>\n",
       "    <tr style=\"text-align: right;\">\n",
       "      <th></th>\n",
       "      <th>Unnamed: 0</th>\n",
       "      <th>Unnamed: 1</th>\n",
       "      <th>Unnamed: 2</th>\n",
       "      <th>Unnamed: 3</th>\n",
       "      <th>Unnamed: 4</th>\n",
       "    </tr>\n",
       "  </thead>\n",
       "  <tbody>\n",
       "    <tr>\n",
       "      <th>0</th>\n",
       "      <td>NaN</td>\n",
       "      <td>Field Reference</td>\n",
       "      <td>Description</td>\n",
       "      <td>Character Type</td>\n",
       "      <td>Maximum Length</td>\n",
       "    </tr>\n",
       "    <tr>\n",
       "      <th>1</th>\n",
       "      <td>NaN</td>\n",
       "      <td>acc_id</td>\n",
       "      <td>Anonymised account ID</td>\n",
       "      <td>NUMBER</td>\n",
       "      <td>22</td>\n",
       "    </tr>\n",
       "    <tr>\n",
       "      <th>2</th>\n",
       "      <td>NaN</td>\n",
       "      <td>account_type</td>\n",
       "      <td>2 digit code to show the type of account</td>\n",
       "      <td>CHARACTER</td>\n",
       "      <td>2</td>\n",
       "    </tr>\n",
       "    <tr>\n",
       "      <th>3</th>\n",
       "      <td>NaN</td>\n",
       "      <td>credit_turnover</td>\n",
       "      <td>Credit turnover, in GBP,  the total value of a...</td>\n",
       "      <td>NUMBER</td>\n",
       "      <td>22</td>\n",
       "    </tr>\n",
       "    <tr>\n",
       "      <th>4</th>\n",
       "      <td>NaN</td>\n",
       "      <td>debit_turnover</td>\n",
       "      <td>Debit turnover, in GBP,  the total value of al...</td>\n",
       "      <td>NUMBER</td>\n",
       "      <td>22</td>\n",
       "    </tr>\n",
       "    <tr>\n",
       "      <th>5</th>\n",
       "      <td>NaN</td>\n",
       "      <td>month_data_date</td>\n",
       "      <td>Date associated with the data provided for a g...</td>\n",
       "      <td>CHARACTER</td>\n",
       "      <td>8</td>\n",
       "    </tr>\n",
       "    <tr>\n",
       "      <th>6</th>\n",
       "      <td>NaN</td>\n",
       "      <td>acc_status</td>\n",
       "      <td>Status code, monthly indication of the payment...</td>\n",
       "      <td>CHARACTER</td>\n",
       "      <td>1</td>\n",
       "    </tr>\n",
       "    <tr>\n",
       "      <th>7</th>\n",
       "      <td>NaN</td>\n",
       "      <td>min_balance</td>\n",
       "      <td>Minimum balance during the period, in GBP, a n...</td>\n",
       "      <td>NUMBER</td>\n",
       "      <td>22</td>\n",
       "    </tr>\n",
       "    <tr>\n",
       "      <th>8</th>\n",
       "      <td>NaN</td>\n",
       "      <td>balance</td>\n",
       "      <td>Total outstanding balance in GBP, a negative v...</td>\n",
       "      <td>NUMBER</td>\n",
       "      <td>22</td>\n",
       "    </tr>\n",
       "    <tr>\n",
       "      <th>9</th>\n",
       "      <td>NaN</td>\n",
       "      <td>rejected_payments</td>\n",
       "      <td>Rejected payments, the number of cheques, dire...</td>\n",
       "      <td>NUMBER</td>\n",
       "      <td>22</td>\n",
       "    </tr>\n",
       "    <tr>\n",
       "      <th>10</th>\n",
       "      <td>NaN</td>\n",
       "      <td>monthly_payment_scheduled</td>\n",
       "      <td>Payment amount, the normal monthly payment (in...</td>\n",
       "      <td>NUMBER</td>\n",
       "      <td>22</td>\n",
       "    </tr>\n",
       "    <tr>\n",
       "      <th>11</th>\n",
       "      <td>NaN</td>\n",
       "      <td>credit_limit</td>\n",
       "      <td>Credit/Overdraft limit, in GBP</td>\n",
       "      <td>NUMBER</td>\n",
       "      <td>22</td>\n",
       "    </tr>\n",
       "  </tbody>\n",
       "</table>\n",
       "</div>"
      ],
      "text/plain": [
       "    Unnamed: 0                 Unnamed: 1  \\\n",
       "0          NaN            Field Reference   \n",
       "1          NaN   acc_id                     \n",
       "2          NaN               account_type   \n",
       "3          NaN            credit_turnover   \n",
       "4          NaN             debit_turnover   \n",
       "5          NaN            month_data_date   \n",
       "6          NaN                 acc_status   \n",
       "7          NaN                min_balance   \n",
       "8          NaN                    balance   \n",
       "9          NaN          rejected_payments   \n",
       "10         NaN  monthly_payment_scheduled   \n",
       "11         NaN               credit_limit   \n",
       "\n",
       "                                           Unnamed: 2      Unnamed: 3  \\\n",
       "0                                         Description  Character Type   \n",
       "1                               Anonymised account ID          NUMBER   \n",
       "2           2 digit code to show the type of account        CHARACTER   \n",
       "3   Credit turnover, in GBP,  the total value of a...          NUMBER   \n",
       "4   Debit turnover, in GBP,  the total value of al...          NUMBER   \n",
       "5   Date associated with the data provided for a g...       CHARACTER   \n",
       "6   Status code, monthly indication of the payment...       CHARACTER   \n",
       "7   Minimum balance during the period, in GBP, a n...          NUMBER   \n",
       "8   Total outstanding balance in GBP, a negative v...          NUMBER   \n",
       "9   Rejected payments, the number of cheques, dire...          NUMBER   \n",
       "10  Payment amount, the normal monthly payment (in...          NUMBER   \n",
       "11                     Credit/Overdraft limit, in GBP          NUMBER   \n",
       "\n",
       "        Unnamed: 4  \n",
       "0   Maximum Length  \n",
       "1               22  \n",
       "2                2  \n",
       "3               22  \n",
       "4               22  \n",
       "5                8  \n",
       "6                1  \n",
       "7               22  \n",
       "8               22  \n",
       "9               22  \n",
       "10              22  \n",
       "11              22  "
      ]
     },
     "execution_count": 12,
     "metadata": {},
     "output_type": "execute_result"
    }
   ],
   "source": [
    "#View the Data Dictionary\n",
    "meta_data"
   ]
  },
  {
   "cell_type": "code",
   "execution_count": 13,
   "metadata": {},
   "outputs": [],
   "source": [
    "# Clean the Dataframe\n",
    "meta_data = meta_data.drop('Unnamed: 0', axis ='columns')"
   ]
  },
  {
   "cell_type": "code",
   "execution_count": 14,
   "metadata": {},
   "outputs": [],
   "source": [
    "# Select the first row as the column and drop it from the data dictionary\n",
    "meta_data.columns = meta_data.loc[0]\n",
    "meta_data = meta_data.drop(0, axis =0)"
   ]
  },
  {
   "cell_type": "code",
   "execution_count": 15,
   "metadata": {},
   "outputs": [
    {
     "data": {
      "text/html": [
       "<div>\n",
       "<style scoped>\n",
       "    .dataframe tbody tr th:only-of-type {\n",
       "        vertical-align: middle;\n",
       "    }\n",
       "\n",
       "    .dataframe tbody tr th {\n",
       "        vertical-align: top;\n",
       "    }\n",
       "\n",
       "    .dataframe thead th {\n",
       "        text-align: right;\n",
       "    }\n",
       "</style>\n",
       "<table border=\"1\" class=\"dataframe\">\n",
       "  <thead>\n",
       "    <tr style=\"text-align: right;\">\n",
       "      <th></th>\n",
       "      <th>Field Reference</th>\n",
       "      <th>Description</th>\n",
       "      <th>Character Type</th>\n",
       "      <th>Maximum Length</th>\n",
       "    </tr>\n",
       "  </thead>\n",
       "  <tbody>\n",
       "    <tr>\n",
       "      <th>1</th>\n",
       "      <td>acc_id</td>\n",
       "      <td>Anonymised account ID</td>\n",
       "      <td>NUMBER</td>\n",
       "      <td>22</td>\n",
       "    </tr>\n",
       "    <tr>\n",
       "      <th>2</th>\n",
       "      <td>account_type</td>\n",
       "      <td>2 digit code to show the type of account</td>\n",
       "      <td>CHARACTER</td>\n",
       "      <td>2</td>\n",
       "    </tr>\n",
       "    <tr>\n",
       "      <th>3</th>\n",
       "      <td>credit_turnover</td>\n",
       "      <td>Credit turnover, in GBP,  the total value of a...</td>\n",
       "      <td>NUMBER</td>\n",
       "      <td>22</td>\n",
       "    </tr>\n",
       "    <tr>\n",
       "      <th>4</th>\n",
       "      <td>debit_turnover</td>\n",
       "      <td>Debit turnover, in GBP,  the total value of al...</td>\n",
       "      <td>NUMBER</td>\n",
       "      <td>22</td>\n",
       "    </tr>\n",
       "    <tr>\n",
       "      <th>5</th>\n",
       "      <td>month_data_date</td>\n",
       "      <td>Date associated with the data provided for a g...</td>\n",
       "      <td>CHARACTER</td>\n",
       "      <td>8</td>\n",
       "    </tr>\n",
       "    <tr>\n",
       "      <th>6</th>\n",
       "      <td>acc_status</td>\n",
       "      <td>Status code, monthly indication of the payment...</td>\n",
       "      <td>CHARACTER</td>\n",
       "      <td>1</td>\n",
       "    </tr>\n",
       "    <tr>\n",
       "      <th>7</th>\n",
       "      <td>min_balance</td>\n",
       "      <td>Minimum balance during the period, in GBP, a n...</td>\n",
       "      <td>NUMBER</td>\n",
       "      <td>22</td>\n",
       "    </tr>\n",
       "    <tr>\n",
       "      <th>8</th>\n",
       "      <td>balance</td>\n",
       "      <td>Total outstanding balance in GBP, a negative v...</td>\n",
       "      <td>NUMBER</td>\n",
       "      <td>22</td>\n",
       "    </tr>\n",
       "    <tr>\n",
       "      <th>9</th>\n",
       "      <td>rejected_payments</td>\n",
       "      <td>Rejected payments, the number of cheques, dire...</td>\n",
       "      <td>NUMBER</td>\n",
       "      <td>22</td>\n",
       "    </tr>\n",
       "    <tr>\n",
       "      <th>10</th>\n",
       "      <td>monthly_payment_scheduled</td>\n",
       "      <td>Payment amount, the normal monthly payment (in...</td>\n",
       "      <td>NUMBER</td>\n",
       "      <td>22</td>\n",
       "    </tr>\n",
       "    <tr>\n",
       "      <th>11</th>\n",
       "      <td>credit_limit</td>\n",
       "      <td>Credit/Overdraft limit, in GBP</td>\n",
       "      <td>NUMBER</td>\n",
       "      <td>22</td>\n",
       "    </tr>\n",
       "  </tbody>\n",
       "</table>\n",
       "</div>"
      ],
      "text/plain": [
       "0             Field Reference  \\\n",
       "1    acc_id                     \n",
       "2                account_type   \n",
       "3             credit_turnover   \n",
       "4              debit_turnover   \n",
       "5             month_data_date   \n",
       "6                  acc_status   \n",
       "7                 min_balance   \n",
       "8                     balance   \n",
       "9           rejected_payments   \n",
       "10  monthly_payment_scheduled   \n",
       "11               credit_limit   \n",
       "\n",
       "0                                         Description Character Type  \\\n",
       "1                               Anonymised account ID         NUMBER   \n",
       "2           2 digit code to show the type of account       CHARACTER   \n",
       "3   Credit turnover, in GBP,  the total value of a...         NUMBER   \n",
       "4   Debit turnover, in GBP,  the total value of al...         NUMBER   \n",
       "5   Date associated with the data provided for a g...      CHARACTER   \n",
       "6   Status code, monthly indication of the payment...      CHARACTER   \n",
       "7   Minimum balance during the period, in GBP, a n...         NUMBER   \n",
       "8   Total outstanding balance in GBP, a negative v...         NUMBER   \n",
       "9   Rejected payments, the number of cheques, dire...         NUMBER   \n",
       "10  Payment amount, the normal monthly payment (in...         NUMBER   \n",
       "11                     Credit/Overdraft limit, in GBP         NUMBER   \n",
       "\n",
       "0  Maximum Length  \n",
       "1              22  \n",
       "2               2  \n",
       "3              22  \n",
       "4              22  \n",
       "5               8  \n",
       "6               1  \n",
       "7              22  \n",
       "8              22  \n",
       "9              22  \n",
       "10             22  \n",
       "11             22  "
      ]
     },
     "execution_count": 15,
     "metadata": {},
     "output_type": "execute_result"
    }
   ],
   "source": [
    "#View the data dictionary\n",
    "meta_data"
   ]
  },
  {
   "cell_type": "markdown",
   "metadata": {},
   "source": [
    "**Note**: Before diving into the analysis and analyzing data quality metrics, we first check if the **character type** is the same as the specification provided in the Data Dictionary"
   ]
  },
  {
   "cell_type": "code",
   "execution_count": 16,
   "metadata": {},
   "outputs": [
    {
     "name": "stdout",
     "output_type": "stream",
     "text": [
      "<class 'pandas.core.frame.DataFrame'>\n",
      "RangeIndex: 27648 entries, 0 to 27647\n",
      "Data columns (total 11 columns):\n",
      " #   Column                     Non-Null Count  Dtype  \n",
      "---  ------                     --------------  -----  \n",
      " 0   acc_id                     27648 non-null  int64  \n",
      " 1   account_type               27624 non-null  object \n",
      " 2   credit_turnover            27642 non-null  float64\n",
      " 3   debit_turnover             27642 non-null  float64\n",
      " 4   month_data_date            27648 non-null  object \n",
      " 5   acc_status                 27648 non-null  object \n",
      " 6   min_balance                27642 non-null  object \n",
      " 7   balance                    27642 non-null  object \n",
      " 8   rejected_payments          27648 non-null  object \n",
      " 9   monthly_payment_scheduled  27648 non-null  object \n",
      " 10  credit_limit               27648 non-null  object \n",
      "dtypes: float64(2), int64(1), object(8)\n",
      "memory usage: 2.3+ MB\n"
     ]
    }
   ],
   "source": [
    "# Get data types from the data frame\n",
    "data.info()"
   ]
  },
  {
   "cell_type": "markdown",
   "metadata": {},
   "source": [
    "#### Get all the Fields that should be \"Numerical\""
   ]
  },
  {
   "cell_type": "code",
   "execution_count": 17,
   "metadata": {},
   "outputs": [],
   "source": [
    "should_be_numerical_fields =[]\n",
    "for index, row in meta_data.iterrows():\n",
    "    if row['Character Type'] == 'NUMBER':\n",
    "        should_be_numerical_fields.append(row['Field Reference'])\n",
    "        \n",
    "should_be_numerical_fields = [field.strip() for field in should_be_numerical_fields]"
   ]
  },
  {
   "cell_type": "markdown",
   "metadata": {},
   "source": [
    "#### Get all the fields that should be \"Character\""
   ]
  },
  {
   "cell_type": "code",
   "execution_count": 18,
   "metadata": {},
   "outputs": [],
   "source": [
    "should_be_character_fields= []\n",
    "for index, row in meta_data.iterrows():\n",
    "    if row['Character Type'] == 'CHARACTER':\n",
    "        should_be_character_fields.append(row['Field Reference'])\n",
    "        \n",
    "should_be_character_fields = [field.strip() for field in should_be_character_fields]"
   ]
  },
  {
   "cell_type": "markdown",
   "metadata": {},
   "source": [
    "#### Get All the fields that are (in fact) Numerical"
   ]
  },
  {
   "cell_type": "code",
   "execution_count": 19,
   "metadata": {},
   "outputs": [],
   "source": [
    "numeric_columns = data.select_dtypes(include=np.number).columns.tolist()"
   ]
  },
  {
   "cell_type": "markdown",
   "metadata": {},
   "source": [
    "#### Get all Non-conforming Fields"
   ]
  },
  {
   "cell_type": "code",
   "execution_count": 20,
   "metadata": {},
   "outputs": [],
   "source": [
    "faulty_fields = []\n",
    "for column in should_be_numerical_fields:\n",
    "    if column not in numeric_columns:\n",
    "        faulty_fields.append(column)"
   ]
  },
  {
   "cell_type": "code",
   "execution_count": 21,
   "metadata": {},
   "outputs": [
    {
     "name": "stdout",
     "output_type": "stream",
     "text": [
      "['min_balance', 'balance', 'rejected_payments', 'monthly_payment_scheduled', 'credit_limit']\n"
     ]
    }
   ],
   "source": [
    "print(faulty_fields)"
   ]
  },
  {
   "cell_type": "markdown",
   "metadata": {},
   "source": [
    "**Observation**: As a first observation we can see that there is a mismatch of the Data types in the Data Frame and the Provided Data Dictionary.\n",
    "\n",
    "***1.*** min_balance, balance, rejected_payments, monthly_payment_scheduled, and credit_limit should be numerical variables but are captured as text (objects) in this dataframe.\n",
    "\n",
    "***2.*** Date Should be captured as date.\n",
    "\n",
    "***3.*** acc_id, acc_type, and acc_status are appropriately captured as text (categorical) data **| This would be confirmed**\n",
    "\n",
    "***4.*** credit_turnover and debit_turnover are appropriately captured as numerical data"
   ]
  },
  {
   "cell_type": "markdown",
   "metadata": {},
   "source": [
    "### Create a DataFrame that captures all rows with errors\n",
    "This dataframe attaches the rows and the cause of the exception (Data Quality Issue). It contains the normal rows and an additional row that captures the cause of exception"
   ]
  },
  {
   "cell_type": "code",
   "execution_count": 22,
   "metadata": {},
   "outputs": [
    {
     "data": {
      "text/plain": [
       "Index(['acc_id', 'account_type', 'credit_turnover', 'debit_turnover',\n",
       "       'month_data_date', 'acc_status', 'min_balance', 'balance',\n",
       "       'rejected_payments', 'monthly_payment_scheduled', 'credit_limit',\n",
       "       'error_code'],\n",
       "      dtype='object')"
      ]
     },
     "execution_count": 22,
     "metadata": {},
     "output_type": "execute_result"
    }
   ],
   "source": [
    "Errorsss = {'acc_id': [], 'account_type': [], 'credit_turnover': [], 'debit_turnover': [],\n",
    "       'month_data_date': [], 'acc_status': [], 'min_balance': [], 'balance': [],\n",
    "       'rejected_payments': [], 'monthly_payment_scheduled': [], 'credit_limit': [], 'error_code': []}\n",
    "\n",
    "Errorsss_df = pd.DataFrame(Errorsss)\n",
    "Errorsss_df.columns"
   ]
  },
  {
   "cell_type": "markdown",
   "metadata": {},
   "source": [
    "##### Define a function for capturing the error"
   ]
  },
  {
   "cell_type": "code",
   "execution_count": 23,
   "metadata": {},
   "outputs": [],
   "source": [
    "def append_error(value, error, error_dataframe):\n",
    "    new_row = {'acc_id':value['acc_id'], 'account_type':value['account_type'], 'credit_turnover':value['credit_turnover'], \n",
    "                   'debit_turnover':value['debit_turnover'], 'month_data_date':value['month_data_date'], 'acc_status':value['acc_status'], \n",
    "                   'min_balance':value['min_balance'], 'balance':value['balance'],'rejected_payments':value['rejected_payments'], \n",
    "                   'monthly_payment_scheduled':value['monthly_payment_scheduled'], \n",
    "                   'credit_limit':value['credit_limit'], 'error_code':error}\n",
    "    error_dataframe = error_dataframe.append(new_row, ignore_index=True)\n",
    "    return error_dataframe\n"
   ]
  },
  {
   "cell_type": "markdown",
   "metadata": {},
   "source": [
    "**Function Explanation**: For every columns that we do a quality check on, this function appends the wrong entry and the reason why there is an error. The final table will be exported and can be sent to the business owners to work on the errors."
   ]
  },
  {
   "cell_type": "markdown",
   "metadata": {},
   "source": [
    "### Quick Modification"
   ]
  },
  {
   "cell_type": "markdown",
   "metadata": {},
   "source": [
    "#### Change the date column to YYYYMMDD format as specified in the data dictionary"
   ]
  },
  {
   "cell_type": "code",
   "execution_count": 24,
   "metadata": {},
   "outputs": [],
   "source": [
    "# Convert month_data_date to YYYYMMDD format\n",
    "#data['month_data_date'] = data['month_data_date'].dt.strftime('%Y%m%d')"
   ]
  },
  {
   "cell_type": "markdown",
   "metadata": {},
   "source": [
    "#### Define Row by row date conversion function"
   ]
  },
  {
   "cell_type": "code",
   "execution_count": 25,
   "metadata": {},
   "outputs": [],
   "source": [
    "def date_converstion (x):\n",
    "    try:\n",
    "        x_string = datetime.strptime(str(x), '%Y-%m-%d %H:%M:%S')\n",
    "        x_string = x_string.strftime('%Y%m%d')\n",
    "        return x_string\n",
    "    except Exception as e:\n",
    "        return False\n",
    "\n",
    "assert date_converstion('123456') == False"
   ]
  },
  {
   "cell_type": "markdown",
   "metadata": {},
   "source": [
    "##### Define Generic Function for Finding Non-compliant (Non-Numeric) rows in Numeric Columns"
   ]
  },
  {
   "cell_type": "code",
   "execution_count": 26,
   "metadata": {},
   "outputs": [],
   "source": [
    "def is_digit(x):\n",
    "    if len(x) <= 22:\n",
    "        try:\n",
    "            int(x)\n",
    "            return True\n",
    "        except ValueError:\n",
    "            return  False\n",
    "    else:\n",
    "        return False"
   ]
  },
  {
   "cell_type": "markdown",
   "metadata": {},
   "source": [
    "What this function does, is that it returns **\"True\"** if a value can be converted to number. If it cannot be converted then it is a non-numerical entry and would return **\"False\"**."
   ]
  },
  {
   "cell_type": "markdown",
   "metadata": {},
   "source": [
    "###### Define generic function to measure uniqueness  (to be used where applicable)\n"
   ]
  },
  {
   "cell_type": "code",
   "execution_count": 27,
   "metadata": {},
   "outputs": [],
   "source": [
    "def count_unique (x):\n",
    "    unique_value = data[x].nunique()\n",
    "    return unique_value"
   ]
  },
  {
   "cell_type": "markdown",
   "metadata": {},
   "source": [
    "## Preliminary Checks (Missing and Duplicated Data)\n",
    "#### Missing (Incomplete) Values"
   ]
  },
  {
   "cell_type": "code",
   "execution_count": 28,
   "metadata": {},
   "outputs": [
    {
     "data": {
      "text/plain": [
       "acc_id                        0\n",
       "account_type                 24\n",
       "credit_turnover               6\n",
       "debit_turnover                6\n",
       "month_data_date               0\n",
       "acc_status                    0\n",
       "min_balance                   6\n",
       "balance                       6\n",
       "rejected_payments             0\n",
       "monthly_payment_scheduled     0\n",
       "credit_limit                  0\n",
       "dtype: int64"
      ]
     },
     "execution_count": 28,
     "metadata": {},
     "output_type": "execute_result"
    }
   ],
   "source": [
    "# checking for missing values in the data\n",
    "data.isna().sum()"
   ]
  },
  {
   "cell_type": "markdown",
   "metadata": {},
   "source": [
    "**Observation**: As can be seen ***Account Type*** has **24** Missing Values, while ***Credit_turnover, Debit_turnover, Minimum_Balance, and Balance*** all have 6 missing Values"
   ]
  },
  {
   "cell_type": "markdown",
   "metadata": {},
   "source": [
    "#### Total Values"
   ]
  },
  {
   "cell_type": "code",
   "execution_count": 29,
   "metadata": {},
   "outputs": [
    {
     "name": "stdout",
     "output_type": "stream",
     "text": [
      "For Column acc_id: There are 27648 entries.\n",
      "For Column account_type: There are 27624 entries.\n",
      "For Column credit_turnover: There are 27642 entries.\n",
      "For Column debit_turnover: There are 27642 entries.\n",
      "For Column month_data_date: There are 27648 entries.\n",
      "For Column acc_status: There are 27648 entries.\n",
      "For Column min_balance: There are 27642 entries.\n",
      "For Column balance: There are 27642 entries.\n",
      "For Column rejected_payments: There are 27648 entries.\n",
      "For Column monthly_payment_scheduled: There are 27648 entries.\n",
      "For Column credit_limit: There are 27648 entries.\n"
     ]
    }
   ],
   "source": [
    "for column in data.columns:\n",
    "    print(f'For Column {column.strip()}: There are {data[column].value_counts().sum()} entries.')"
   ]
  },
  {
   "cell_type": "markdown",
   "metadata": {},
   "source": [
    "#### Duplicated Rows"
   ]
  },
  {
   "cell_type": "code",
   "execution_count": 30,
   "metadata": {},
   "outputs": [
    {
     "data": {
      "text/plain": [
       "0"
      ]
     },
     "execution_count": 30,
     "metadata": {},
     "output_type": "execute_result"
    }
   ],
   "source": [
    "# checking for duplicated rows in the data\n",
    "data.duplicated().sum()"
   ]
  },
  {
   "cell_type": "markdown",
   "metadata": {},
   "source": [
    "**Observation**: There are no duplicated entries in the dataset."
   ]
  },
  {
   "cell_type": "code",
   "execution_count": 31,
   "metadata": {},
   "outputs": [
    {
     "name": "stdout",
     "output_type": "stream",
     "text": [
      "Although anonymised, there are 23043 repeated account ids\n"
     ]
    }
   ],
   "source": [
    "# Account Id is expected to be unique. We can check this.\n",
    "repeated_accounts = data.shape[0] - data['acc_id'].nunique()\n",
    "print( f'Although anonymised, there are {repeated_accounts} repeated account ids')"
   ]
  },
  {
   "cell_type": "markdown",
   "metadata": {},
   "source": [
    "#### Unique Values"
   ]
  },
  {
   "cell_type": "code",
   "execution_count": 32,
   "metadata": {},
   "outputs": [
    {
     "name": "stdout",
     "output_type": "stream",
     "text": [
      "There are 4605. unique values in the acc_id column.\n",
      "There are 3. unique values in the account_type column.\n",
      "There are 5931. unique values in the credit_turnover column.\n",
      "There are 6859. unique values in the debit_turnover column.\n",
      "There are 24. unique values in the month_data_date column.\n",
      "There are 1. unique values in the acc_status column.\n",
      "There are 14058. unique values in the min_balance column.\n",
      "There are 14622. unique values in the balance column.\n",
      "There are 12. unique values in the rejected_payments column.\n",
      "There are 14. unique values in the monthly_payment_scheduled column.\n",
      "There are 6. unique values in the credit_limit column.\n"
     ]
    }
   ],
   "source": [
    "for column in data.columns:\n",
    "    print(f'There are {data[column].nunique()}. unique values in the {column} column.')"
   ]
  },
  {
   "cell_type": "markdown",
   "metadata": {},
   "source": [
    "### Defining Functions: Rules of the Data\n",
    "**These functions are being defined mostly to let us loop through the columns later and use them in the data quality metrices that would be calculated.**"
   ]
  },
  {
   "cell_type": "markdown",
   "metadata": {},
   "source": [
    "For this exercise, the data quality measure would be benchmarked against the specifications in the Data Dictionary provided with the Data. This means that we would check the conformance each column against the rules in the data dictionary. For some, there are general rules such as the lenght of the characters. For these columns, a generic function can be passed to check conformance. We will start with generic rules"
   ]
  },
  {
   "cell_type": "markdown",
   "metadata": {},
   "source": [
    "#### Maximum Length Function\n",
    "This shows the maximum length of characters allowed for each field. Here we map it together"
   ]
  },
  {
   "cell_type": "code",
   "execution_count": 33,
   "metadata": {},
   "outputs": [
    {
     "data": {
      "text/plain": [
       "{'acc_id': 22,\n",
       " 'account_type': 2,\n",
       " 'credit_turnover': 22,\n",
       " 'debit_turnover': 22,\n",
       " 'month_data_date': 8,\n",
       " 'acc_status': 1,\n",
       " 'min_balance': 22,\n",
       " 'balance': 22,\n",
       " 'rejected_payments': 22,\n",
       " 'monthly_payment_scheduled': 22,\n",
       " 'credit_limit': 22}"
      ]
     },
     "execution_count": 33,
     "metadata": {},
     "output_type": "execute_result"
    }
   ],
   "source": [
    "#First we get the maximum lengths of the fields from the data dictionary\n",
    "fields = [field.strip() for field in meta_data['Field Reference']] #code to get the fields from the data dictionary\n",
    "counttt = [lenght for lenght in meta_data['Maximum Length']] #Code to get the maximum length from the data dictionary\n",
    "field_lengths = dict(zip(fields,counttt)) #Code to map each field to maximum length in a dictionaryfor enable us call it later\n",
    "field_lengths"
   ]
  },
  {
   "cell_type": "code",
   "execution_count": 34,
   "metadata": {},
   "outputs": [],
   "source": [
    "def numerical_character_and_lenght_check(x):\n",
    "    global Errorsss_df #Declare this as Global to effect changes outside the function\n",
    "    count = 0\n",
    "    wrong_input =[]\n",
    "    for index, value in data.iterrows():\n",
    "        new_value = value[x]\n",
    "        if len(str(new_value))<= field_lengths[x]:\n",
    "            try:\n",
    "                int(str(new_value))\n",
    "                count +=1\n",
    "            except ValueError:\n",
    "                try: # This is here as the first 'try' might not always work for float object types\n",
    "                    int(new_value)\n",
    "                    count +=1\n",
    "                except Exception as e:\n",
    "                    Errorsss_df = append_error(value, f'input in {x} column is not a number', Errorsss_df)\n",
    "                    wrong_input.append(new_value)\n",
    "        else:\n",
    "            Errorsss_df = append_error(value, f'input in {x} column does not meet length requirement', Errorsss_df)\n",
    "            wrong_input.append(new_value)\n",
    "    return count"
   ]
  },
  {
   "cell_type": "code",
   "execution_count": 35,
   "metadata": {},
   "outputs": [
    {
     "data": {
      "text/plain": [
       "27647"
      ]
     },
     "execution_count": 35,
     "metadata": {},
     "output_type": "execute_result"
    }
   ],
   "source": [
    "numerical_character_and_lenght_check('rejected_payments')"
   ]
  },
  {
   "cell_type": "markdown",
   "metadata": {},
   "source": [
    "**Function Explanation:** This particular function is used to check the compliance of the Numerical columns. It first checks if the data entry conforms with the maximum length specified in the data dictionary. If it does, it then checks if it is a numerical value (That is, if all caharacters in the entry are numbers or can be converted to numbers). If these requirements are met, it adds 1 to the count value. If it is a string value that cannot be converted to a numerical value, it adds zero to the count value and appends the wrong input into a list. At the end, all wrong entries are printed and the total number of correct entries are returned."
   ]
  },
  {
   "cell_type": "code",
   "execution_count": 36,
   "metadata": {},
   "outputs": [],
   "source": [
    "def check_greater_than(x, y):\n",
    "    if x > y:\n",
    "        raise ValueError(f\"{x} is greater than {y}\")"
   ]
  },
  {
   "cell_type": "markdown",
   "metadata": {},
   "source": [
    "**Function Explanation**: This will be used to check if there are anomalies in the date column. It is not expected that any date will be greater than today in the data that was provided"
   ]
  },
  {
   "cell_type": "code",
   "execution_count": 37,
   "metadata": {},
   "outputs": [],
   "source": [
    "def text_character_and_length_check(x):\n",
    "    global Errorsss_df\n",
    "    count = 0\n",
    "    wrong_input =[]\n",
    "    #column_type = data[x].dtype\n",
    "    if x == 'month_data_date':\n",
    "        for index, value in data.iterrows():\n",
    "            new_value = value[x]\n",
    "            if date_converstion(new_value) != False and len(date_converstion(new_value)) == field_lengths[x]:\n",
    "                try:\n",
    "                    check_greater_than(new_value.date(),today)\n",
    "                    parse(str(date_converstion(new_value)))\n",
    "                    count += 1\n",
    "                except Exception as e:\n",
    "                    Errorsss_df = append_error(value, f'input in {x} column is an outlier date', Errorsss_df)\n",
    "                    wrong_input.append(new_value)\n",
    "            else:\n",
    "                Errorsss_df = append_error(value, f'input in {x} column is not a valid date/exceeds length requirement', Errorsss_df)\n",
    "                wrong_input.append(new_value)\n",
    "\n",
    "    else:\n",
    "        for index, value in data.iterrows():\n",
    "            new_value = value[x]\n",
    "            if len(str(new_value)) <= field_lengths[x]:\n",
    "                count +=1\n",
    "            else:\n",
    "                Errorsss_df = append_error(value, f'input in {x} column exceeds length requirement', Errorsss_df)\n",
    "                wrong_input.append(new_value)\n",
    "    return count\n",
    "    #print(wrong_input)\n",
    "    #print(count)\n",
    "        "
   ]
  },
  {
   "cell_type": "code",
   "execution_count": 38,
   "metadata": {},
   "outputs": [
    {
     "data": {
      "text/plain": [
       "27636"
      ]
     },
     "execution_count": 38,
     "metadata": {},
     "output_type": "execute_result"
    }
   ],
   "source": [
    "text_character_and_length_check('month_data_date')"
   ]
  },
  {
   "cell_type": "code",
   "execution_count": 39,
   "metadata": {},
   "outputs": [
    {
     "data": {
      "text/plain": [
       "['account_type', 'month_data_date', 'acc_status']"
      ]
     },
     "execution_count": 39,
     "metadata": {},
     "output_type": "execute_result"
    }
   ],
   "source": [
    "should_be_character_fields"
   ]
  },
  {
   "cell_type": "markdown",
   "metadata": {},
   "source": [
    "**Function Explanation**: This function works on two types of data and it has two procedures. First the function checks if the column passed into it is the Date Column. If it is, the function iterates through each row of the column and checks if it can be converted into the specified YYYYMMDD format. If it can be converted, it then checks if the length meets the required length. If all these prior requirements have been met, we then check if the date is not an outlier (we check this by ensuring that the date is not higher than a set dat - in the case of this code, the present date. Finally, if these checks are passed, we try to parse it (meaning we try to check if the text can be converted to data) if it can, then it is a correct entry. Otherwise, it is a wrong entry.\n",
    "\n",
    "For the second funtion, it works with the character fields and checks if the length requirement is met"
   ]
  },
  {
   "cell_type": "code",
   "execution_count": 40,
   "metadata": {},
   "outputs": [],
   "source": [
    "assert date_converstion('1234') ==False"
   ]
  },
  {
   "cell_type": "code",
   "execution_count": 41,
   "metadata": {},
   "outputs": [
    {
     "data": {
      "text/plain": [
       "27648"
      ]
     },
     "execution_count": 41,
     "metadata": {},
     "output_type": "execute_result"
    }
   ],
   "source": [
    "text_character_and_length_check('acc_status')"
   ]
  },
  {
   "cell_type": "code",
   "execution_count": 42,
   "metadata": {},
   "outputs": [
    {
     "data": {
      "text/plain": [
       "['account_type', 'month_data_date', 'acc_status']"
      ]
     },
     "execution_count": 42,
     "metadata": {},
     "output_type": "execute_result"
    }
   ],
   "source": [
    "should_be_character_fields"
   ]
  },
  {
   "cell_type": "code",
   "execution_count": 43,
   "metadata": {},
   "outputs": [],
   "source": [
    "def value_lenght_check(x):\n",
    "    count = 0\n",
    "    for value in data[x]:\n",
    "        if len(str(value))<= field_lengths[x]:\n",
    "            count +=0\n",
    "        else:\n",
    "            count +=0\n",
    "    return count"
   ]
  },
  {
   "cell_type": "markdown",
   "metadata": {},
   "source": [
    "**Function Explanation**: This function checks if each entry meets the specified data dictionary limit for that column. If it meets it, the count is incresed by one. If it does not, the count does not increase. The entry then returns the total number of entries that meet the specified length requirement. This is used for checking **completness of the columns**"
   ]
  },
  {
   "cell_type": "code",
   "execution_count": 44,
   "metadata": {},
   "outputs": [],
   "source": [
    "def numerical_character_check(x):\n",
    "    count = 0\n",
    "    for value in data[x]:\n",
    "        try:\n",
    "            int(str(value))\n",
    "            count +=1\n",
    "        except ValueError:\n",
    "            try: # This is here as the first 'try' might not work for float object types\n",
    "                int(value)\n",
    "                count +=1\n",
    "            except Exception as e:\n",
    "                count +=0\n",
    "    else:\n",
    "        count +=0\n",
    "    return count\n",
    "    #print(wrong_input)\n",
    "    #print (count)"
   ]
  },
  {
   "cell_type": "markdown",
   "metadata": {},
   "source": [
    "**Function Explanation**: This function checks if the the specified character rules are followed such as the data type entry. This particular function is only valid for numerical columns. This is useful for checking **consistency**"
   ]
  },
  {
   "cell_type": "code",
   "execution_count": 45,
   "metadata": {},
   "outputs": [],
   "source": [
    "def text_character_check(x):\n",
    "    count = 0\n",
    "    if x == 'month_data_date':\n",
    "        for value in data[x]:\n",
    "            if date_converstion(value) != False:\n",
    "                try:\n",
    "                    parse(str(date_converstion(value)))\n",
    "                    count += 1\n",
    "                except Exception as e:\n",
    "                    count += 0\n",
    "            else:\n",
    "                count += 0\n",
    "\n",
    "    else:\n",
    "        for value in data[x]:\n",
    "            try:\n",
    "                str(value).isalpha()\n",
    "                count +=1\n",
    "            except Exception as e:\n",
    "                count +=0\n",
    "    return count"
   ]
  },
  {
   "cell_type": "markdown",
   "metadata": {},
   "source": [
    "**Function Explanation**: This function checks if the the specified description rules are followed such as the data type entry. This particular function is only valid for character (object) columns and the date column. It also mostly focuses on the data type. This is useful for checking **consistecy**"
   ]
  },
  {
   "cell_type": "code",
   "execution_count": 46,
   "metadata": {},
   "outputs": [],
   "source": [
    "def null_values_check(x):\n",
    "    global Errorsss_df\n",
    "    count = 0\n",
    "    for index, value in data.iterrows():\n",
    "        new_value = value[x]\n",
    "        if pd.isna(new_value):\n",
    "            count +=1\n",
    "            Errorsss_df = append_error(value, f'Input in column {x} is null', Errorsss_df)\n",
    "        else:\n",
    "            pass\n",
    "        \n",
    "    return count"
   ]
  },
  {
   "cell_type": "markdown",
   "metadata": {},
   "source": [
    "**Function Explanation**: This function merely checks whethere there are missing values or not and returns the total number of missing values in the specified column. Likewise, null values are added to the null error dataframe. This measures **completeness** of the data"
   ]
  },
  {
   "cell_type": "code",
   "execution_count": 47,
   "metadata": {},
   "outputs": [],
   "source": [
    "def valid_and_outlier_check(x):\n",
    "    global Errorsss_df\n",
    "    global data\n",
    "    outlier_count =0\n",
    "    outlier_values =[]\n",
    "    valid_entry =[]\n",
    "    valid_entry_2 =[]\n",
    "    wrong_entry =[]\n",
    "    count_of_valid_entry_non_outliers = data.shape[0]\n",
    "    for index, value in data.iterrows():\n",
    "        new_value = value[x]\n",
    "        try: \n",
    "            int(str(new_value)) #Check if it can be converted to a number\n",
    "            valid_entry.append(abs(int(new_value))) # if it can be converted to a number, attach the value to the \"valid_entry\" list\n",
    "            valid_entry_2.append(int(new_value)) # attach it to valid_entry_2 list as well\n",
    "            #count_of_valid_entry_non_outliers +=1\n",
    "        except ValueError: #if it throws an error \n",
    "            try:\n",
    "                int(new_value) #check if it a float\n",
    "                valid_entry.append(int(new_value)) #if it is attach it to valid_entry\n",
    "                valid_entry_2.append(int(new_value)) #Also attach it to valid_entry_2\n",
    "                #count_of_valid_entry_non_outliers +=1\n",
    "            except Exception as e: #If it is neither a float or number\n",
    "                Errorsss_df = append_error(value, f'input in {x} column is not a number', Errorsss_df)\n",
    "                valid_entry_2.append(np.nan) # Add null for all wrong entries or null values\n",
    "                wrong_entry.append(new_value)\n",
    "                count_of_valid_entry_non_outliers -=1\n",
    "    mean_of_valid_entries = sum(valid_entry)/len(valid_entry)\n",
    "    valid_entry_2 = [mean_of_valid_entries if np.isnan(x) else x for x in valid_entry_2]\n",
    "    data['temp_values'] = valid_entry_2 #Create a new column with replaced faoulty rows\n",
    "    \n",
    "    \n",
    "    \n",
    "# When it is done creating the DataFrame, it would then check if there are outliers using stats library from scipy\n",
    "    z_scores = np.abs(stats.zscore(data['temp_values']))\n",
    "    data['z_scores'] = z_scores\n",
    "    threshold = 3 #Usually, this can be calculated using inter quatile range of the data\n",
    "    data['outliers'] = data['z_scores']>threshold\n",
    "    \n",
    "    for index, value in data.iterrows():\n",
    "        new_value = value['outliers']\n",
    "        if new_value == True:\n",
    "            outlier_count +=1\n",
    "            count_of_valid_entry_non_outliers -=1\n",
    "            Errorsss_df = append_error(value, f'input in {x} column is an outlier', Errorsss_df)\n",
    "        else:\n",
    "            pass\n",
    "    for index, row in data.iterrows():\n",
    "        if row['outliers'] == True:\n",
    "            outlier_values.append(row[x])\n",
    "        else:\n",
    "            outlier_count+=0\n",
    "\n",
    "    added_columns = ['outliers', 'z_scores', 'temp_values']\n",
    "    data = data.drop(added_columns, axis = 1)\n",
    "    results = [outlier_count, outlier_values, wrong_entry, count_of_valid_entry_non_outliers]\n",
    "    return results"
   ]
  },
  {
   "cell_type": "markdown",
   "metadata": {},
   "source": [
    "**Function Explanation**: This function helps us check whether there are anomalies in data entries of numerical columns. Specifically, checks for outliers in any specified numerical column. However, there are instances where entries in a numerical column are not numeric (perhaps text?), the function removes them as well. At the end, it attaches the outliers, the wrong entries and the total count of outliers. This can help the data owners identify the wrong and outlier entries.\n",
    "\n",
    "valid_and_outlier_check(x)[0] returns the count of outliers\n",
    "\n",
    "valid_and_outlier_check(x)[1] returns the outlier values\n",
    "\n",
    "valid_and_outlier_check(x)[2] returns the wrong entries\n",
    "\n",
    "valid_and_outlier_check(x)[3] returns the total number of valid entries."
   ]
  },
  {
   "cell_type": "code",
   "execution_count": 48,
   "metadata": {},
   "outputs": [
    {
     "data": {
      "text/plain": [
       "[3, [54545, 55550, 25000], ['A'], 27644]"
      ]
     },
     "execution_count": 48,
     "metadata": {},
     "output_type": "execute_result"
    }
   ],
   "source": [
    "valid_and_outlier_check('monthly_payment_scheduled')"
   ]
  },
  {
   "cell_type": "markdown",
   "metadata": {},
   "source": [
    "## Data Quality (DQ) Metrices"
   ]
  },
  {
   "cell_type": "markdown",
   "metadata": {},
   "source": [
    "Data Quality has a number of key dimensions which we would look at at during this stage. Some of the Dimentions that would be analysed include:\n",
    "\n",
    "**Completeness**: This measures how the degree to which the data set contains all the necessary information and records required to meet the set objectives. This will be captured by **null values**\n",
    "\n",
    "**Consistency**: This measures the degree to which there is uniformity in the datase. That is, it checks if the data format is the same in different sources. As we are not working with data from multiple sources, we would not capture this metric.\n",
    "\n",
    "**Validity**: This is measured by the degree to which the dataset meets defined standards and rules. Adherence to rules set in the data dictionary will serve as a guide in measuring this. \n",
    "\n",
    "**Accuracy**: The degree to which the data reflects real world values and actual events. For applicable fields, this will be captured using outliers and wrong entries.\n",
    "\n",
    "**Duplication & Uniqueness**: this is captured by the degree to which data contains duplicate records, which can lead to errors and inconsistencies. Duplication looks at it from row to row to check for duplicates while uniqueness looks at columns that are expected to be unique to find duplicates in such column.\n",
    "\n",
    "**Other Dimensions**: These are other dimensions of data quality that are not captured in this analysis. They include: Timeliness, Relevance, Accessibility, Interpretability, Integrity, Consensus, Bias, Consolidation, Currency, Precision, etcetera."
   ]
  },
  {
   "cell_type": "markdown",
   "metadata": {},
   "source": [
    "###### Validity\n",
    "Since the shape of the data is (27648, 11), we expect that there are a total of 304128 entires in the dataset. Validity aims to loop through every single column in the dataset and identify every single cell that conforms with the specified rules of the columns, and is not null. This means that we are benchmarking each cell against the data description of the columns, the null rule (no null values) and the character length rule. This is divided by the total number of expected entries and multipled by 100."
   ]
  },
  {
   "cell_type": "code",
   "execution_count": 49,
   "metadata": {},
   "outputs": [],
   "source": [
    "def validity ():\n",
    "        total_valid_rows = 0\n",
    "        for column in should_be_character_fields:\n",
    "            total_valid_rows += text_character_and_length_check(column)\n",
    "        for column in should_be_numerical_fields:\n",
    "            total_valid_rows += numerical_character_and_lenght_check(column)\n",
    "        return (total_valid_rows/(data.shape[1]*data.shape[0]))*100"
   ]
  },
  {
   "cell_type": "markdown",
   "metadata": {},
   "source": [
    "###### Completeness\n",
    "Completeness checks wethere there are any missing values in the data set. As stated earlier, there are 304128 expected entries. We measure completeness by dividing the total filled cells by the total expected entried and multiplying it by 100"
   ]
  },
  {
   "cell_type": "code",
   "execution_count": 50,
   "metadata": {},
   "outputs": [],
   "source": [
    "def completeness():\n",
    "    number_of_expected_entries = data.shape[1]*data.shape[0]\n",
    "    total_null_rows = 0\n",
    "    for column in data.columns:\n",
    "        total_null_rows += null_values_check(column)\n",
    "    return (((number_of_expected_entries - total_null_rows)/number_of_expected_entries)*100)"
   ]
  },
  {
   "cell_type": "markdown",
   "metadata": {},
   "source": [
    "###### Uniqueness\n",
    "Not every field is expected to have unique values but the account ID although anonymised is expected to be unique. As such Uniqueness will only be checked for the account id column. This is measured below and the count_unique function is called"
   ]
  },
  {
   "cell_type": "code",
   "execution_count": 51,
   "metadata": {},
   "outputs": [],
   "source": [
    "def uniqueness():\n",
    "    unique_entries = count_unique('acc_id')\n",
    "    return (unique_entries/data.shape[0])*100"
   ]
  },
  {
   "cell_type": "markdown",
   "metadata": {},
   "source": [
    "#### Duplication\n",
    "We can check if there are duplicate entries in the dataset. For this, a simple python function is inbuilt for this. We would write a simple function that simplly calculates the duplication score.\n"
   ]
  },
  {
   "cell_type": "code",
   "execution_count": 52,
   "metadata": {},
   "outputs": [],
   "source": [
    "def duplication():\n",
    "    number_of_duplicates = data.duplicated().sum()\n",
    "    return (((data.shape[0]-number_of_duplicates)/data.shape[0])*100)"
   ]
  },
  {
   "cell_type": "markdown",
   "metadata": {},
   "source": [
    "###### Accuracy\n",
    "For accuracy, we will check whether the inputs (especially) in the numerical columns represent real life scenarios. For example, we can check for outliers in numerical columns that do not make sense. Likewise, we can check if the monthly payment is greater than the outstanding amount. In such a scenario, we can ascertain that the entry is invalid. "
   ]
  },
  {
   "cell_type": "code",
   "execution_count": 53,
   "metadata": {},
   "outputs": [],
   "source": [
    "#I will just manually specify the columns I want to run accuracy on but it can be automated to include all numeric fields\n",
    "accuracy_columns= ['credit_turnover', 'debit_turnover', 'min_balance', 'balance',  \n",
    "                   'rejected_payments', 'monthly_payment_scheduled', 'credit_limit'] \n",
    "def accuracy():\n",
    "    count_accurate = 0\n",
    "    total_applicable_rows = (data.shape[0]*len(accuracy_columns)) # to Get total rows considered\n",
    "    for column in accuracy_columns:\n",
    "        count_accurate += valid_and_outlier_check(column)[3]\n",
    "    return ((count_accurate/total_applicable_rows)*100)\n",
    "    #result = [count_accurate, total_applicable_rows]\n",
    "    #return result"
   ]
  },
  {
   "cell_type": "markdown",
   "metadata": {},
   "source": [
    "### Final DQ Score\n",
    "We compute two score:\n",
    "\n",
    "1. DQ Score with Uniqueness: This looks at the amount of duplicate values in the Acc_ID column (Under the assumption that the account id should be unique). This is represented by the function *DQ_score_unique()*\n",
    "\n",
    "2. DQ Score without Uniqueness: This score does not make any assumptions about the uniqueness of the acc_id column. This is represented by the function *DQ_score()*"
   ]
  },
  {
   "cell_type": "code",
   "execution_count": 54,
   "metadata": {},
   "outputs": [],
   "source": [
    "def DQ_score_unique():\n",
    "    final_metrices = [accuracy(), duplication(), uniqueness(),\n",
    "                 completeness(), validity()]\n",
    "    return sum(final_metrices)/len(final_metrices)"
   ]
  },
  {
   "cell_type": "code",
   "execution_count": 55,
   "metadata": {},
   "outputs": [],
   "source": [
    "def DQ_score():\n",
    "    final_metrices = [accuracy(), duplication(),\n",
    "                 completeness(), validity()]\n",
    "    return sum(final_metrices)/len(final_metrices)\n"
   ]
  },
  {
   "cell_type": "markdown",
   "metadata": {},
   "source": [
    "#### Attaching the result to a DataFrame and exporting the DataFrame for Visualization"
   ]
  },
  {
   "cell_type": "code",
   "execution_count": 56,
   "metadata": {},
   "outputs": [],
   "source": [
    "#Attach the results to a list\n",
    "final_metrices = [[DQ_score_unique(), DQ_score(), accuracy(), \n",
    "                   duplication(), uniqueness(), completeness(), validity()]]\n",
    "# Turn it into a DataFrame\n",
    "Result_df = pd.DataFrame(final_metrices, columns = ['DQ_score_unique', 'DQ_score', 'Accuracy', 'Duplication', \n",
    "                                                    'Uniqueness', 'Completeness', 'Validity'])"
   ]
  },
  {
   "cell_type": "code",
   "execution_count": 57,
   "metadata": {},
   "outputs": [],
   "source": [
    "#Export Data to an excel file\n",
    "Result_df.to_csv('DQ_metrices.csv')"
   ]
  },
  {
   "cell_type": "markdown",
   "metadata": {},
   "source": [
    "#### Delete Duplicated rows from the Errors Table & Export the Clean Table and error tables to csv files"
   ]
  },
  {
   "cell_type": "code",
   "execution_count": 59,
   "metadata": {},
   "outputs": [],
   "source": [
    "Errorsss_df = Errorsss_df.drop_duplicates(keep='last') # Drop duplicates and Keep Only the Last Entry\n",
    "Errorsss_df.to_csv('DQ_Issues.csv')"
   ]
  },
  {
   "cell_type": "markdown",
   "metadata": {},
   "source": [
    "This allows for both additional analysis of the errors in any tool of choice but also a pertinent information for data owners to advise on there data quality issues are in order to adequately correct them"
   ]
  },
  {
   "cell_type": "code",
   "execution_count": 60,
   "metadata": {},
   "outputs": [
    {
     "data": {
      "text/plain": [
       "(738, 12)"
      ]
     },
     "execution_count": 60,
     "metadata": {},
     "output_type": "execute_result"
    }
   ],
   "source": [
    "Errorsss_df.shape"
   ]
  },
  {
   "cell_type": "code",
   "execution_count": 61,
   "metadata": {},
   "outputs": [
    {
     "data": {
      "text/html": [
       "<div>\n",
       "<style scoped>\n",
       "    .dataframe tbody tr th:only-of-type {\n",
       "        vertical-align: middle;\n",
       "    }\n",
       "\n",
       "    .dataframe tbody tr th {\n",
       "        vertical-align: top;\n",
       "    }\n",
       "\n",
       "    .dataframe thead th {\n",
       "        text-align: right;\n",
       "    }\n",
       "</style>\n",
       "<table border=\"1\" class=\"dataframe\">\n",
       "  <thead>\n",
       "    <tr style=\"text-align: right;\">\n",
       "      <th></th>\n",
       "      <th>acc_id</th>\n",
       "      <th>account_type</th>\n",
       "      <th>credit_turnover</th>\n",
       "      <th>debit_turnover</th>\n",
       "      <th>month_data_date</th>\n",
       "      <th>acc_status</th>\n",
       "      <th>min_balance</th>\n",
       "      <th>balance</th>\n",
       "      <th>rejected_payments</th>\n",
       "      <th>monthly_payment_scheduled</th>\n",
       "      <th>credit_limit</th>\n",
       "      <th>error_code</th>\n",
       "    </tr>\n",
       "  </thead>\n",
       "  <tbody>\n",
       "    <tr>\n",
       "      <th>1574</th>\n",
       "      <td>32211554.0</td>\n",
       "      <td>A</td>\n",
       "      <td>4031.0</td>\n",
       "      <td>3027.0</td>\n",
       "      <td>2021-06-03 00:00:00</td>\n",
       "      <td>D</td>\n",
       "      <td>##############################################...</td>\n",
       "      <td>1913-09-12 00:00:00</td>\n",
       "      <td>0</td>\n",
       "      <td>3</td>\n",
       "      <td>5000</td>\n",
       "      <td>input in min_balance column is not a number</td>\n",
       "    </tr>\n",
       "    <tr>\n",
       "      <th>1578</th>\n",
       "      <td>32211554.0</td>\n",
       "      <td>A</td>\n",
       "      <td>956.0</td>\n",
       "      <td>5305.0</td>\n",
       "      <td>2021-08-04 00:00:00</td>\n",
       "      <td>D</td>\n",
       "      <td>##############################################...</td>\n",
       "      <td>1907-06-05 00:00:00</td>\n",
       "      <td>0</td>\n",
       "      <td>3</td>\n",
       "      <td>5000</td>\n",
       "      <td>input in min_balance column is not a number</td>\n",
       "    </tr>\n",
       "    <tr>\n",
       "      <th>1580</th>\n",
       "      <td>32211554.0</td>\n",
       "      <td>A</td>\n",
       "      <td>4110.0</td>\n",
       "      <td>6724.0</td>\n",
       "      <td>2021-09-04 00:00:00</td>\n",
       "      <td>D</td>\n",
       "      <td>##############################################...</td>\n",
       "      <td>1900-04-08 00:00:00</td>\n",
       "      <td>0</td>\n",
       "      <td>3</td>\n",
       "      <td>5000</td>\n",
       "      <td>input in min_balance column is not a number</td>\n",
       "    </tr>\n",
       "    <tr>\n",
       "      <th>1582</th>\n",
       "      <td>32211554.0</td>\n",
       "      <td>A</td>\n",
       "      <td>4402.0</td>\n",
       "      <td>4607.0</td>\n",
       "      <td>2021-10-05 00:00:00</td>\n",
       "      <td>D</td>\n",
       "      <td>##############################################...</td>\n",
       "      <td>##############################################...</td>\n",
       "      <td>0</td>\n",
       "      <td>3</td>\n",
       "      <td>5000</td>\n",
       "      <td>input in min_balance column is not a number</td>\n",
       "    </tr>\n",
       "    <tr>\n",
       "      <th>1585</th>\n",
       "      <td>47123208.0</td>\n",
       "      <td>A</td>\n",
       "      <td>2895.0</td>\n",
       "      <td>3557.0</td>\n",
       "      <td>2021-06-03 00:00:00</td>\n",
       "      <td>D</td>\n",
       "      <td>-12510</td>\n",
       "      <td>3338</td>\n",
       "      <td>0</td>\n",
       "      <td>4</td>\n",
       "      <td>1000</td>\n",
       "      <td>input in min_balance column is an outlier</td>\n",
       "    </tr>\n",
       "    <tr>\n",
       "      <th>...</th>\n",
       "      <td>...</td>\n",
       "      <td>...</td>\n",
       "      <td>...</td>\n",
       "      <td>...</td>\n",
       "      <td>...</td>\n",
       "      <td>...</td>\n",
       "      <td>...</td>\n",
       "      <td>...</td>\n",
       "      <td>...</td>\n",
       "      <td>...</td>\n",
       "      <td>...</td>\n",
       "      <td>...</td>\n",
       "    </tr>\n",
       "    <tr>\n",
       "      <th>2328</th>\n",
       "      <td>47126976.0</td>\n",
       "      <td>A</td>\n",
       "      <td>2500.0</td>\n",
       "      <td>3113.0</td>\n",
       "      <td>2021-11-05 00:00:00</td>\n",
       "      <td>D</td>\n",
       "      <td>NaN</td>\n",
       "      <td>NaN</td>\n",
       "      <td>0</td>\n",
       "      <td>7</td>\n",
       "      <td>1000</td>\n",
       "      <td>input in balance column is not a number</td>\n",
       "    </tr>\n",
       "    <tr>\n",
       "      <th>2329</th>\n",
       "      <td>32211554.0</td>\n",
       "      <td>A</td>\n",
       "      <td>468.0</td>\n",
       "      <td>4871.0</td>\n",
       "      <td>2021-11-05 00:00:00</td>\n",
       "      <td>D</td>\n",
       "      <td>1901-07-08 00:00:00</td>\n",
       "      <td>##############################################...</td>\n",
       "      <td>0</td>\n",
       "      <td>3</td>\n",
       "      <td>5000</td>\n",
       "      <td>input in balance column does not meet length r...</td>\n",
       "    </tr>\n",
       "    <tr>\n",
       "      <th>2330</th>\n",
       "      <td>21321547.0</td>\n",
       "      <td>B</td>\n",
       "      <td>2500.0</td>\n",
       "      <td>2814.0</td>\n",
       "      <td>2021-10-05 00:00:00</td>\n",
       "      <td>D</td>\n",
       "      <td>-695</td>\n",
       "      <td>A</td>\n",
       "      <td>A</td>\n",
       "      <td>A</td>\n",
       "      <td>A</td>\n",
       "      <td>input in rejected_payments column is not a number</td>\n",
       "    </tr>\n",
       "    <tr>\n",
       "      <th>2331</th>\n",
       "      <td>21321547.0</td>\n",
       "      <td>B</td>\n",
       "      <td>2500.0</td>\n",
       "      <td>2814.0</td>\n",
       "      <td>2021-10-05 00:00:00</td>\n",
       "      <td>D</td>\n",
       "      <td>-695</td>\n",
       "      <td>A</td>\n",
       "      <td>A</td>\n",
       "      <td>A</td>\n",
       "      <td>A</td>\n",
       "      <td>input in monthly_payment_scheduled column is n...</td>\n",
       "    </tr>\n",
       "    <tr>\n",
       "      <th>2332</th>\n",
       "      <td>21321547.0</td>\n",
       "      <td>B</td>\n",
       "      <td>2500.0</td>\n",
       "      <td>2814.0</td>\n",
       "      <td>2021-10-05 00:00:00</td>\n",
       "      <td>D</td>\n",
       "      <td>-695</td>\n",
       "      <td>A</td>\n",
       "      <td>A</td>\n",
       "      <td>A</td>\n",
       "      <td>A</td>\n",
       "      <td>input in credit_limit column is not a number</td>\n",
       "    </tr>\n",
       "  </tbody>\n",
       "</table>\n",
       "<p>738 rows × 12 columns</p>\n",
       "</div>"
      ],
      "text/plain": [
       "          acc_id account_type  credit_turnover  debit_turnover  \\\n",
       "1574  32211554.0            A           4031.0          3027.0   \n",
       "1578  32211554.0            A            956.0          5305.0   \n",
       "1580  32211554.0            A           4110.0          6724.0   \n",
       "1582  32211554.0            A           4402.0          4607.0   \n",
       "1585  47123208.0            A           2895.0          3557.0   \n",
       "...          ...          ...              ...             ...   \n",
       "2328  47126976.0            A           2500.0          3113.0   \n",
       "2329  32211554.0            A            468.0          4871.0   \n",
       "2330  21321547.0            B           2500.0          2814.0   \n",
       "2331  21321547.0            B           2500.0          2814.0   \n",
       "2332  21321547.0            B           2500.0          2814.0   \n",
       "\n",
       "          month_data_date acc_status  \\\n",
       "1574  2021-06-03 00:00:00          D   \n",
       "1578  2021-08-04 00:00:00          D   \n",
       "1580  2021-09-04 00:00:00          D   \n",
       "1582  2021-10-05 00:00:00          D   \n",
       "1585  2021-06-03 00:00:00          D   \n",
       "...                   ...        ...   \n",
       "2328  2021-11-05 00:00:00          D   \n",
       "2329  2021-11-05 00:00:00          D   \n",
       "2330  2021-10-05 00:00:00          D   \n",
       "2331  2021-10-05 00:00:00          D   \n",
       "2332  2021-10-05 00:00:00          D   \n",
       "\n",
       "                                            min_balance  \\\n",
       "1574  ##############################################...   \n",
       "1578  ##############################################...   \n",
       "1580  ##############################################...   \n",
       "1582  ##############################################...   \n",
       "1585                                             -12510   \n",
       "...                                                 ...   \n",
       "2328                                                NaN   \n",
       "2329                                1901-07-08 00:00:00   \n",
       "2330                                               -695   \n",
       "2331                                               -695   \n",
       "2332                                               -695   \n",
       "\n",
       "                                                balance rejected_payments  \\\n",
       "1574                                1913-09-12 00:00:00                 0   \n",
       "1578                                1907-06-05 00:00:00                 0   \n",
       "1580                                1900-04-08 00:00:00                 0   \n",
       "1582  ##############################################...                 0   \n",
       "1585                                               3338                 0   \n",
       "...                                                 ...               ...   \n",
       "2328                                                NaN                 0   \n",
       "2329  ##############################################...                 0   \n",
       "2330                                                  A                 A   \n",
       "2331                                                  A                 A   \n",
       "2332                                                  A                 A   \n",
       "\n",
       "     monthly_payment_scheduled credit_limit  \\\n",
       "1574                         3         5000   \n",
       "1578                         3         5000   \n",
       "1580                         3         5000   \n",
       "1582                         3         5000   \n",
       "1585                         4         1000   \n",
       "...                        ...          ...   \n",
       "2328                         7         1000   \n",
       "2329                         3         5000   \n",
       "2330                         A            A   \n",
       "2331                         A            A   \n",
       "2332                         A            A   \n",
       "\n",
       "                                             error_code  \n",
       "1574        input in min_balance column is not a number  \n",
       "1578        input in min_balance column is not a number  \n",
       "1580        input in min_balance column is not a number  \n",
       "1582        input in min_balance column is not a number  \n",
       "1585          input in min_balance column is an outlier  \n",
       "...                                                 ...  \n",
       "2328            input in balance column is not a number  \n",
       "2329  input in balance column does not meet length r...  \n",
       "2330  input in rejected_payments column is not a number  \n",
       "2331  input in monthly_payment_scheduled column is n...  \n",
       "2332       input in credit_limit column is not a number  \n",
       "\n",
       "[738 rows x 12 columns]"
      ]
     },
     "execution_count": 61,
     "metadata": {},
     "output_type": "execute_result"
    }
   ],
   "source": [
    "Errorsss_df"
   ]
  },
  {
   "cell_type": "code",
   "execution_count": 62,
   "metadata": {},
   "outputs": [],
   "source": [
    "cleaned_df = pd.merge(cleaned_df, Errorsss_df, how='left', indicator=True)\n",
    "cleaned_df = cleaned_df[cleaned_df['_merge'] == 'left_only'].drop(columns=['_merge'])\n"
   ]
  },
  {
   "cell_type": "code",
   "execution_count": 63,
   "metadata": {},
   "outputs": [
    {
     "data": {
      "text/plain": [
       "(27019, 12)"
      ]
     },
     "execution_count": 63,
     "metadata": {},
     "output_type": "execute_result"
    }
   ],
   "source": [
    "cleaned_df.shape"
   ]
  },
  {
   "cell_type": "code",
   "execution_count": 64,
   "metadata": {},
   "outputs": [],
   "source": [
    "cleaned_df.to_csv('DQ_Clean.csv')"
   ]
  },
  {
   "cell_type": "markdown",
   "metadata": {},
   "source": [
    "## Thank You."
   ]
  }
 ],
 "metadata": {
  "kernelspec": {
   "display_name": "Python 3 (ipykernel)",
   "language": "python",
   "name": "python3"
  },
  "language_info": {
   "codemirror_mode": {
    "name": "ipython",
    "version": 3
   },
   "file_extension": ".py",
   "mimetype": "text/x-python",
   "name": "python",
   "nbconvert_exporter": "python",
   "pygments_lexer": "ipython3",
   "version": "3.11.3"
  }
 },
 "nbformat": 4,
 "nbformat_minor": 4
}
